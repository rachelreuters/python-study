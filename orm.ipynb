{
 "cells": [
  {
   "cell_type": "markdown",
   "id": "141eb6c0",
   "metadata": {},
   "source": [
    "## ORMs (Object-Relational Mappers)\n",
    "As ferramentas que permitem interagir com bancos de dados usando objetos e classes em vez de escrever SQL puro. Elas ajudam a manter o código mais limpo, seguro e fácil de manter.  \n",
    "| ORM           | Características                                                                                                      | Quando usar                                                                                  |\n",
    "|---------------|----------------------------------------------------------------------------------------------------------------------|----------------------------------------------------------------------------------------------|\n",
    "| SQLAlchemy    | Extremamente flexível, suporta múltiplos bancos (PostgreSQL, MySQL, SQLite, Oracle). Tem modo Core (SQL direto) e ORM. | Projetos de qualquer porte que precisam de controle fino sobre queries.                      |\n",
    "| Django ORM    | Integrado ao framework Django, gera tabelas a partir de modelos, possui API de consultas poderosa e admin automático. | Aplicações web com Django.                                                                   |\n",
    "| Peewee        | Leve, simples, fácil de aprender. Ótimo para SQLite e projetos pequenos/médios.                                      | Scripts, apps menores e protótipos.                                                          |\n",
    "| Tortoise ORM  | Assíncrono, inspirado no Django ORM, ideal para FastAPI e apps async.                                                 | APIs modernas com asyncio.                                                                   |\n",
    "| Pony ORM      | Sintaxe declarativa usando Python puro, queries como expressões Python.                                               | Projetos que priorizam legibilidade e simplicidade.                                          |\n"
   ]
  },
  {
   "cell_type": "code",
   "execution_count": 1,
   "id": "ac5e5184",
   "metadata": {},
   "outputs": [
    {
     "name": "stdout",
     "output_type": "stream",
     "text": [
      "Collecting sqlalchemy\n",
      "  Downloading sqlalchemy-2.0.43-cp311-cp311-win_amd64.whl.metadata (9.8 kB)\n",
      "Collecting greenlet>=1 (from sqlalchemy)\n",
      "  Downloading greenlet-3.2.4-cp311-cp311-win_amd64.whl.metadata (4.2 kB)\n",
      "Requirement already satisfied: typing-extensions>=4.6.0 in c:\\users\\belch\\appdata\\local\\packages\\pythonsoftwarefoundation.python.3.11_qbz5n2kfra8p0\\localcache\\local-packages\\python311\\site-packages (from sqlalchemy) (4.12.2)\n",
      "Downloading sqlalchemy-2.0.43-cp311-cp311-win_amd64.whl (2.1 MB)\n",
      "   ---------------------------------------- 0.0/2.1 MB ? eta -:--:--\n",
      "   ---------------------------------------- 2.1/2.1 MB 23.9 MB/s eta 0:00:00\n",
      "Downloading greenlet-3.2.4-cp311-cp311-win_amd64.whl (299 kB)\n",
      "Installing collected packages: greenlet, sqlalchemy\n",
      "Successfully installed greenlet-3.2.4 sqlalchemy-2.0.43\n",
      "Note: you may need to restart the kernel to use updated packages.\n"
     ]
    },
    {
     "name": "stderr",
     "output_type": "stream",
     "text": [
      "\n",
      "[notice] A new release of pip is available: 24.2 -> 25.2\n",
      "[notice] To update, run: C:\\Users\\belch\\AppData\\Local\\Microsoft\\WindowsApps\\PythonSoftwareFoundation.Python.3.11_qbz5n2kfra8p0\\python.exe -m pip install --upgrade pip\n"
     ]
    }
   ],
   "source": [
    "%pip install sqlalchemy"
   ]
  },
  {
   "cell_type": "code",
   "execution_count": 5,
   "id": "8d59436a",
   "metadata": {},
   "outputs": [
    {
     "name": "stdout",
     "output_type": "stream",
     "text": [
      "Rachel\n",
      "Felipe\n",
      "Joaquim\n"
     ]
    }
   ],
   "source": [
    "from sqlalchemy import create_engine, Column, Integer, String\n",
    "from sqlalchemy.orm import declarative_base, sessionmaker\n",
    "\n",
    "Base = declarative_base()\n",
    "engine = create_engine(\"sqlite:///meubanco.db\")\n",
    "Session = sessionmaker(bind=engine)\n",
    "session = Session()\n",
    "\n",
    "class Usuario(Base):\n",
    "    __tablename__ = \"usuarios\"\n",
    "    id = Column(Integer, primary_key=True)\n",
    "    nome = Column(String)\n",
    "\n",
    "Base.metadata.create_all(engine)\n",
    "\n",
    "novos = [Usuario(nome=\"Rachel\"),Usuario(nome=\"Felipe\"),Usuario(nome=\"Joaquim\")]\n",
    "session.query(Usuario).delete()\n",
    "session.add_all(novos)\n",
    "session.commit()\n",
    "\n",
    "for u in session.query(Usuario).all():\n",
    "    print(u.nome)\n"
   ]
  }
 ],
 "metadata": {
  "kernelspec": {
   "display_name": "Python 3",
   "language": "python",
   "name": "python3"
  },
  "language_info": {
   "codemirror_mode": {
    "name": "ipython",
    "version": 3
   },
   "file_extension": ".py",
   "mimetype": "text/x-python",
   "name": "python",
   "nbconvert_exporter": "python",
   "pygments_lexer": "ipython3",
   "version": "3.11.9"
  }
 },
 "nbformat": 4,
 "nbformat_minor": 5
}
