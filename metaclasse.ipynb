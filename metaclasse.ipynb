{
 "cells": [
  {
   "cell_type": "markdown",
   "id": "bd3b9144",
   "metadata": {},
   "source": [
    "**Metaclasses** são classes que criam outras classes. Se classes são fábricas de objetos, metaclasses são fábricas de fábricas.\n",
    "\n",
    "Quando você define uma classe em Python, por trás dos panos o Python usa uma metaclasse para construir essa classe.\n",
    "\n",
    "A metaclasse padrão em Python é *type*."
   ]
  },
  {
   "cell_type": "code",
   "execution_count": 2,
   "id": "f6403f28",
   "metadata": {},
   "outputs": [
    {
     "name": "stdout",
     "output_type": "stream",
     "text": [
      "Oi!\n"
     ]
    }
   ],
   "source": [
    "class Meta(type):\n",
    "    def __new__(cls, nome, bases, dct):\n",
    "        dct['diga_oi'] = lambda self: print(\"Oi!\")\n",
    "        return super().__new__(cls, nome, bases, dct)\n",
    "\n",
    "class MinhaClasse(metaclass=Meta):\n",
    "    pass\n",
    "\n",
    "obj = MinhaClasse()\n",
    "obj.diga_oi()  # Saída: Oi!\n"
   ]
  }
 ],
 "metadata": {
  "kernelspec": {
   "display_name": "Python 3",
   "language": "python",
   "name": "python3"
  },
  "language_info": {
   "codemirror_mode": {
    "name": "ipython",
    "version": 3
   },
   "file_extension": ".py",
   "mimetype": "text/x-python",
   "name": "python",
   "nbconvert_exporter": "python",
   "pygments_lexer": "ipython3",
   "version": "3.11.9"
  }
 },
 "nbformat": 4,
 "nbformat_minor": 5
}
