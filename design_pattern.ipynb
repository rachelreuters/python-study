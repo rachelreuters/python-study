{
 "cells": [
  {
   "cell_type": "markdown",
   "id": "dbbaed74",
   "metadata": {},
   "source": [
    "# Singleton\n",
    "📌 O que é:\n",
    "Garante que uma classe tenha apenas uma instância durante toda a execução do programa.\n",
    "\n",
    "🧠 Quando usar:  \n",
    "Gerenciadores de configuração\n",
    "\n",
    "Conexões com banco de dados\n",
    "\n",
    "Loggers"
   ]
  },
  {
   "cell_type": "code",
   "execution_count": 1,
   "id": "17f728f6",
   "metadata": {},
   "outputs": [],
   "source": [
    "class Singleton:\n",
    "    _instancia = None\n",
    "\n",
    "    def __new__(cls):\n",
    "        if cls._instancia is None:\n",
    "            cls._instancia = super().__new__(cls)\n",
    "        return cls._instancia\n"
   ]
  },
  {
   "cell_type": "markdown",
   "id": "6fd72cfe",
   "metadata": {},
   "source": [
    "# Factory (Fábrica)\n",
    "📌 O que é:\n",
    "Cria objetos sem expor a lógica de criação ao cliente. Permite instanciar diferentes subclasses com base em parâmetros.\n",
    "\n",
    "🧠 Quando usar:  \n",
    "Quando o código precisa criar objetos de diferentes tipos sem saber exatamente qual.  \n",
    "\n",
    "Em sistemas que precisam ser facilmente extensíveis."
   ]
  },
  {
   "cell_type": "code",
   "execution_count": null,
   "id": "62633a03",
   "metadata": {},
   "outputs": [],
   "source": [
    "class Animal:\n",
    "    def falar(self):\n",
    "        pass\n",
    "\n",
    "class Cachorro(Animal):\n",
    "    def falar(self):\n",
    "        return \"Au au!\"\n",
    "\n",
    "class Gato(Animal):\n",
    "    def falar(self):\n",
    "        return \"Miau!\"\n",
    "\n",
    "def fabrica_animal(tipo):\n",
    "    if tipo == \"cachorro\":\n",
    "        return Cachorro()\n",
    "    elif tipo == \"gato\":\n",
    "        return Gato()\n"
   ]
  },
  {
   "cell_type": "markdown",
   "id": "b86bfa83",
   "metadata": {},
   "source": [
    "## Strategy (Estratégia)\n",
    "📌 O que é:\n",
    "Permite definir uma família de algoritmos, encapsulá-los e torná-los intercambiáveis. O cliente escolhe a estratégia em tempo de execução.\n",
    "\n",
    "🧠 Quando usar:  \n",
    "Quando você tem várias variações de um algoritmo.\n",
    "\n",
    "Para evitar condicionais complexas (if/elif/else) espalhadas pelo código."
   ]
  },
  {
   "cell_type": "code",
   "execution_count": 3,
   "id": "2e669777",
   "metadata": {},
   "outputs": [
    {
     "name": "stdout",
     "output_type": "stream",
     "text": [
      "7\n",
      "12\n"
     ]
    }
   ],
   "source": [
    "class EstrategiaSoma:\n",
    "    def executar(self, a, b):\n",
    "        return a + b\n",
    "\n",
    "class EstrategiaMultiplicacao:\n",
    "    def executar(self, a, b):\n",
    "        return a * b\n",
    "\n",
    "class Calculadora:\n",
    "    def __init__(self, estrategia):\n",
    "        self.estrategia = estrategia\n",
    "\n",
    "    def calcular(self, a, b):\n",
    "        return self.estrategia.executar(a, b)\n",
    "\n",
    "# Uso\n",
    "calc = Calculadora(EstrategiaSoma())\n",
    "print(calc.calcular(3, 4))  # Saída: 7\n",
    "\n",
    "calc2= Calculadora(EstrategiaMultiplicacao())\n",
    "print(calc2.calcular(3, 4))  # Saída: 7\n"
   ]
  }
 ],
 "metadata": {
  "kernelspec": {
   "display_name": "Python 3",
   "language": "python",
   "name": "python3"
  },
  "language_info": {
   "codemirror_mode": {
    "name": "ipython",
    "version": 3
   },
   "file_extension": ".py",
   "mimetype": "text/x-python",
   "name": "python",
   "nbconvert_exporter": "python",
   "pygments_lexer": "ipython3",
   "version": "3.11.9"
  }
 },
 "nbformat": 4,
 "nbformat_minor": 5
}
