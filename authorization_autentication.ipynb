{
 "cells": [
  {
   "cell_type": "markdown",
   "id": "8de6d527",
   "metadata": {},
   "source": [
    "## JWT (JSON Web Token) para APIs  \n",
    "Muito usado em Flask, FastAPI e outros frameworks para APIs REST:\n",
    "\n",
    "Fluxo:\n",
    "\n",
    "Usuário faz login → servidor gera um token JWT.\n",
    "\n",
    "Token é enviado pelo cliente em cada requisição (header Authorization).\n",
    "\n",
    "Servidor valida assinatura e permissões antes de responder.\n",
    "\n",
    "Vantagens:\n",
    "\n",
    "Stateless (não precisa manter sessão no servidor).\n",
    "\n",
    "Escalável para microsserviços.\n",
    "\n",
    "Bibliotecas: PyJWT, flask-jwt-extended, fastapi-jwt-auth."
   ]
  },
  {
   "cell_type": "code",
   "execution_count": 1,
   "id": "9f070045",
   "metadata": {},
   "outputs": [
    {
     "name": "stdout",
     "output_type": "stream",
     "text": [
      "Collecting fastapi\n",
      "  Downloading fastapi-0.116.1-py3-none-any.whl.metadata (28 kB)\n",
      "Collecting starlette<0.48.0,>=0.40.0 (from fastapi)\n",
      "  Downloading starlette-0.47.3-py3-none-any.whl.metadata (6.2 kB)\n",
      "Collecting pydantic!=1.8,!=1.8.1,!=2.0.0,!=2.0.1,!=2.1.0,<3.0.0,>=1.7.4 (from fastapi)\n",
      "  Downloading pydantic-2.11.9-py3-none-any.whl.metadata (68 kB)\n",
      "Requirement already satisfied: typing-extensions>=4.8.0 in c:\\users\\belch\\appdata\\local\\packages\\pythonsoftwarefoundation.python.3.11_qbz5n2kfra8p0\\localcache\\local-packages\\python311\\site-packages (from fastapi) (4.12.2)\n",
      "Collecting annotated-types>=0.6.0 (from pydantic!=1.8,!=1.8.1,!=2.0.0,!=2.0.1,!=2.1.0,<3.0.0,>=1.7.4->fastapi)\n",
      "  Using cached annotated_types-0.7.0-py3-none-any.whl.metadata (15 kB)\n",
      "Collecting pydantic-core==2.33.2 (from pydantic!=1.8,!=1.8.1,!=2.0.0,!=2.0.1,!=2.1.0,<3.0.0,>=1.7.4->fastapi)\n",
      "  Downloading pydantic_core-2.33.2-cp311-cp311-win_amd64.whl.metadata (6.9 kB)\n",
      "Collecting typing-inspection>=0.4.0 (from pydantic!=1.8,!=1.8.1,!=2.0.0,!=2.0.1,!=2.1.0,<3.0.0,>=1.7.4->fastapi)\n",
      "  Using cached typing_inspection-0.4.1-py3-none-any.whl.metadata (2.6 kB)\n",
      "Collecting anyio<5,>=3.6.2 (from starlette<0.48.0,>=0.40.0->fastapi)\n",
      "  Downloading anyio-4.10.0-py3-none-any.whl.metadata (4.0 kB)\n",
      "Requirement already satisfied: idna>=2.8 in c:\\users\\belch\\appdata\\local\\packages\\pythonsoftwarefoundation.python.3.11_qbz5n2kfra8p0\\localcache\\local-packages\\python311\\site-packages (from anyio<5,>=3.6.2->starlette<0.48.0,>=0.40.0->fastapi) (3.7)\n",
      "Collecting sniffio>=1.1 (from anyio<5,>=3.6.2->starlette<0.48.0,>=0.40.0->fastapi)\n",
      "  Using cached sniffio-1.3.1-py3-none-any.whl.metadata (3.9 kB)\n",
      "Downloading fastapi-0.116.1-py3-none-any.whl (95 kB)\n",
      "Downloading pydantic-2.11.9-py3-none-any.whl (444 kB)\n",
      "Downloading pydantic_core-2.33.2-cp311-cp311-win_amd64.whl (2.0 MB)\n",
      "   ---------------------------------------- 0.0/2.0 MB ? eta -:--:--\n",
      "   ---------------------------------------- 2.0/2.0 MB 26.8 MB/s eta 0:00:00\n",
      "Downloading starlette-0.47.3-py3-none-any.whl (72 kB)\n",
      "Using cached annotated_types-0.7.0-py3-none-any.whl (13 kB)\n",
      "Downloading anyio-4.10.0-py3-none-any.whl (107 kB)\n",
      "Using cached typing_inspection-0.4.1-py3-none-any.whl (14 kB)\n",
      "Using cached sniffio-1.3.1-py3-none-any.whl (10 kB)\n",
      "Installing collected packages: typing-inspection, sniffio, pydantic-core, annotated-types, pydantic, anyio, starlette, fastapi\n",
      "Successfully installed annotated-types-0.7.0 anyio-4.10.0 fastapi-0.116.1 pydantic-2.11.9 pydantic-core-2.33.2 sniffio-1.3.1 starlette-0.47.3 typing-inspection-0.4.1\n",
      "Note: you may need to restart the kernel to use updated packages.\n"
     ]
    },
    {
     "name": "stderr",
     "output_type": "stream",
     "text": [
      "\n",
      "[notice] A new release of pip is available: 24.2 -> 25.2\n",
      "[notice] To update, run: C:\\Users\\belch\\AppData\\Local\\Microsoft\\WindowsApps\\PythonSoftwareFoundation.Python.3.11_qbz5n2kfra8p0\\python.exe -m pip install --upgrade pip\n"
     ]
    }
   ],
   "source": [
    "%pip install fastapi"
   ]
  },
  {
   "cell_type": "code",
   "execution_count": 3,
   "id": "cce28c29",
   "metadata": {},
   "outputs": [
    {
     "name": "stdout",
     "output_type": "stream",
     "text": [
      "Collecting jwt\n",
      "  Downloading jwt-1.4.0-py3-none-any.whl.metadata (3.9 kB)\n",
      "Collecting cryptography!=3.4.0,>=3.1 (from jwt)\n",
      "  Downloading cryptography-45.0.7-cp311-abi3-win_amd64.whl.metadata (5.7 kB)\n",
      "Collecting cffi>=1.14 (from cryptography!=3.4.0,>=3.1->jwt)\n",
      "  Downloading cffi-2.0.0-cp311-cp311-win_amd64.whl.metadata (2.6 kB)\n",
      "Collecting pycparser (from cffi>=1.14->cryptography!=3.4.0,>=3.1->jwt)\n",
      "  Downloading pycparser-2.23-py3-none-any.whl.metadata (993 bytes)\n",
      "Downloading jwt-1.4.0-py3-none-any.whl (18 kB)\n",
      "Downloading cryptography-45.0.7-cp311-abi3-win_amd64.whl (3.4 MB)\n",
      "   ---------------------------------------- 0.0/3.4 MB ? eta -:--:--\n",
      "   ---------------------------------------- 3.4/3.4 MB 20.1 MB/s eta 0:00:00\n",
      "Downloading cffi-2.0.0-cp311-cp311-win_amd64.whl (182 kB)\n",
      "Downloading pycparser-2.23-py3-none-any.whl (118 kB)\n",
      "Installing collected packages: pycparser, cffi, cryptography, jwt\n",
      "Successfully installed cffi-2.0.0 cryptography-45.0.7 jwt-1.4.0 pycparser-2.23\n",
      "Note: you may need to restart the kernel to use updated packages.\n"
     ]
    },
    {
     "name": "stderr",
     "output_type": "stream",
     "text": [
      "\n",
      "[notice] A new release of pip is available: 24.2 -> 25.2\n",
      "[notice] To update, run: C:\\Users\\belch\\AppData\\Local\\Microsoft\\WindowsApps\\PythonSoftwareFoundation.Python.3.11_qbz5n2kfra8p0\\python.exe -m pip install --upgrade pip\n"
     ]
    }
   ],
   "source": [
    "%pip install jwt"
   ]
  },
  {
   "cell_type": "code",
   "execution_count": null,
   "id": "66ea9d31",
   "metadata": {},
   "outputs": [],
   "source": [
    "from fastapi import FastAPI, Depends, HTTPException\n",
    "from fastapi.security import OAuth2PasswordBearer\n",
    "import jwt\n",
    "from datetime import datetime, timedelta\n",
    "\n",
    "# Configurações\n",
    "SECRET_KEY = \"chave_super_secreta\"\n",
    "ALGORITHM = \"HS256\"\n",
    "ACCESS_TOKEN_EXPIRE_MINUTES = 30\n",
    "\n",
    "app = FastAPI()\n",
    "oauth2_scheme = OAuth2PasswordBearer(tokenUrl=\"token\")\n",
    "\n",
    "# Função para criar token\n",
    "def criar_token(dados: dict):\n",
    "    to_encode = dados.copy()\n",
    "    expire = datetime.utcnow() + timedelta(minutes=ACCESS_TOKEN_EXPIRE_MINUTES)\n",
    "    to_encode.update({\"exp\": expire})\n",
    "    return jwt.encode(to_encode, SECRET_KEY, algorithm=ALGORITHM)\n",
    "\n",
    "# Endpoint para login (gera token)\n",
    "@app.post(\"/token\")\n",
    "def login(username: str, password: str):\n",
    "    # Aqui você validaria o usuário no banco\n",
    "    if username != \"admin\" or password != \"123\":\n",
    "        raise HTTPException(status_code=401, detail=\"Credenciais inválidas\")\n",
    "    token = criar_token({\"sub\": username})\n",
    "    return {\"access_token\": token, \"token_type\": \"bearer\"}\n",
    "\n",
    "# Função para validar token\n",
    "def validar_token(token: str = Depends(oauth2_scheme)):\n",
    "    try:\n",
    "        payload = jwt.decode(token, SECRET_KEY, algorithms=[ALGORITHM])\n",
    "        return payload\n",
    "    except jwt.ExpiredSignatureError:\n",
    "        raise HTTPException(status_code=401, detail=\"Token expirado\")\n",
    "    except jwt.InvalidTokenError:\n",
    "        raise HTTPException(status_code=401, detail=\"Token inválido\")\n",
    "\n",
    "# Rota protegida\n",
    "@app.get(\"/protegido\")\n",
    "def protegido(usuario: dict = Depends(validar_token)):\n",
    "    return {\"mensagem\": f\"Bem-vindo, {usuario['sub']}!\"}\n"
   ]
  },
  {
   "cell_type": "markdown",
   "id": "dab310b1",
   "metadata": {},
   "source": [
    "## OAuth 2.0 e OpenID Connect\n",
    "Para autenticação via provedores externos (Google, GitHub, Facebook, etc.):\n",
    "\n",
    "OAuth 2.0: delega autenticação a outro serviço.\n",
    "\n",
    "OpenID Connect: extensão do OAuth para obter informações do usuário autenticado.\n",
    "\n",
    "Bibliotecas: authlib, python-social-auth.\n",
    "\n",
    "📌 Ideal para: quando não quer gerenciar credenciais diretamente."
   ]
  },
  {
   "cell_type": "code",
   "execution_count": 2,
   "id": "4d26d856",
   "metadata": {},
   "outputs": [
    {
     "name": "stdout",
     "output_type": "stream",
     "text": [
      "Collecting requests_oauthlib\n",
      "  Using cached requests_oauthlib-2.0.0-py2.py3-none-any.whl.metadata (11 kB)\n",
      "Collecting oauthlib>=3.0.0 (from requests_oauthlib)\n",
      "  Downloading oauthlib-3.3.1-py3-none-any.whl.metadata (7.9 kB)\n",
      "Requirement already satisfied: requests>=2.0.0 in c:\\users\\belch\\appdata\\local\\packages\\pythonsoftwarefoundation.python.3.11_qbz5n2kfra8p0\\localcache\\local-packages\\python311\\site-packages (from requests_oauthlib) (2.32.3)\n",
      "Requirement already satisfied: charset-normalizer<4,>=2 in c:\\users\\belch\\appdata\\local\\packages\\pythonsoftwarefoundation.python.3.11_qbz5n2kfra8p0\\localcache\\local-packages\\python311\\site-packages (from requests>=2.0.0->requests_oauthlib) (3.3.2)\n",
      "Requirement already satisfied: idna<4,>=2.5 in c:\\users\\belch\\appdata\\local\\packages\\pythonsoftwarefoundation.python.3.11_qbz5n2kfra8p0\\localcache\\local-packages\\python311\\site-packages (from requests>=2.0.0->requests_oauthlib) (3.7)\n",
      "Requirement already satisfied: urllib3<3,>=1.21.1 in c:\\users\\belch\\appdata\\local\\packages\\pythonsoftwarefoundation.python.3.11_qbz5n2kfra8p0\\localcache\\local-packages\\python311\\site-packages (from requests>=2.0.0->requests_oauthlib) (2.2.2)\n",
      "Requirement already satisfied: certifi>=2017.4.17 in c:\\users\\belch\\appdata\\local\\packages\\pythonsoftwarefoundation.python.3.11_qbz5n2kfra8p0\\localcache\\local-packages\\python311\\site-packages (from requests>=2.0.0->requests_oauthlib) (2024.7.4)\n",
      "Using cached requests_oauthlib-2.0.0-py2.py3-none-any.whl (24 kB)\n",
      "Downloading oauthlib-3.3.1-py3-none-any.whl (160 kB)\n",
      "Installing collected packages: oauthlib, requests_oauthlib\n",
      "Successfully installed oauthlib-3.3.1 requests_oauthlib-2.0.0\n",
      "Note: you may need to restart the kernel to use updated packages.\n"
     ]
    },
    {
     "name": "stderr",
     "output_type": "stream",
     "text": [
      "\n",
      "[notice] A new release of pip is available: 24.2 -> 25.2\n",
      "[notice] To update, run: C:\\Users\\belch\\AppData\\Local\\Microsoft\\WindowsApps\\PythonSoftwareFoundation.Python.3.11_qbz5n2kfra8p0\\python.exe -m pip install --upgrade pip\n"
     ]
    }
   ],
   "source": [
    "%pip install requests_oauthlib"
   ]
  },
  {
   "cell_type": "code",
   "execution_count": null,
   "id": "631b1ccb",
   "metadata": {},
   "outputs": [],
   "source": [
    "from requests_oauthlib import OAuth2Session\n",
    "\n",
    "# Configurações do cliente (obtidas no console do provedor OAuth)\n",
    "CLIENT_ID = \"sua_client_id\"\n",
    "CLIENT_SECRET = \"sua_client_secret\"\n",
    "AUTHORIZATION_BASE_URL = \"https://github.com/login/oauth/authorize\"\n",
    "TOKEN_URL = \"https://github.com/login/oauth/access_token\"\n",
    "REDIRECT_URI = \"http://localhost:5000/callback\"\n",
    "\n",
    "# Escopos de acesso\n",
    "SCOPE = [\"read:user\", \"user:email\"]\n",
    "\n",
    "# 1️⃣ Criar sessão OAuth2\n",
    "oauth = OAuth2Session(CLIENT_ID, redirect_uri=REDIRECT_URI, scope=SCOPE)\n",
    "\n",
    "# 2️⃣ Obter URL de autorização e redirecionar o usuário\n",
    "authorization_url, state = oauth.authorization_url(AUTHORIZATION_BASE_URL)\n",
    "print(\"Acesse este link para autorizar:\", authorization_url)\n",
    "\n",
    "# 3️⃣ Após o login, o provedor redireciona para REDIRECT_URI com um código\n",
    "redirect_response = input(\"Cole aqui a URL de redirecionamento: \")\n",
    "\n",
    "# 4️⃣ Trocar o código pelo token de acesso\n",
    "token = oauth.fetch_token(\n",
    "    TOKEN_URL,\n",
    "    authorization_response=redirect_response,\n",
    "    client_secret=CLIENT_SECRET\n",
    ")\n",
    "\n",
    "print(\"Token de acesso:\", token)\n",
    "\n",
    "# 5️⃣ Usar o token para acessar recursos protegidos\n",
    "resp = oauth.get(\"https://api.github.com/user\")\n",
    "print(\"Dados do usuário:\", resp.json())\n"
   ]
  },
  {
   "cell_type": "markdown",
   "id": "c5aed4d3",
   "metadata": {},
   "source": [
    "## Controle de acesso baseado em funções (RBAC) e atributos (ABAC)\n",
    "RBAC: permissões atribuídas a funções (roles), e funções atribuídas a usuários.\n",
    "\n",
    "ABAC: permissões baseadas em atributos do usuário, recurso ou contexto.\n",
    "\n",
    "Pode ser implementado com bibliotecas como casbin ou usando o próprio sistema de permissões do Django."
   ]
  },
  {
   "cell_type": "markdown",
   "id": "b4265602",
   "metadata": {},
   "source": [
    "## Principais falhas de segurança conhecidas\n",
    "1. Validação incorreta do redirect_uri  \n",
    "Permitir wildcards ou correspondências parciais no redirect_uri pode permitir que um invasor redirecione o token para um domínio malicioso.  \n",
    "Mitigação: exigir correspondência exata e pré-cadastro de URLs confiáveis.\n",
    "\n",
    "2. Ausência ou uso incorreto do parâmetro state  \n",
    "O state serve como proteção contra CSRF no fluxo OAuth.\n",
    "Se não for usado ou validado, um atacante pode iniciar um fluxo OAuth e associar a conta da vítima ao seu próprio perfil.  \n",
    "Mitigação: sempre gerar e validar state de forma imprevisível.\n",
    "\n",
    "3. Exposição de tokens no front-end  \n",
    "Fluxos inseguros (como o Implicit Flow) podem expor tokens no fragmento da URL, facilitando o roubo via histórico do navegador ou logs.  \n",
    "Mitigação: preferir o Authorization Code Flow com PKCE.\n",
    "\n",
    "4. Falta de validação do access_token  \n",
    "Usar tokens sem verificar se foram emitidos para o client_id correto ou se o escopo corresponde ao esperado pode permitir acesso indevido.  \n",
    "Mitigação: validar emissor, público, escopo e expiração.\n",
    "\n",
    "1. Configuração fraca do servidor OAuth  \n",
    "Falta de HTTPS, chaves de assinatura fracas ou endpoints expostos podem comprometer todo o fluxo.  \n",
    "Mitigação: usar TLS, rotação de chaves e hardening do servidor.\n",
    "\n",
    "6. Phishing via páginas de autorização falsas  \n",
    "Usuários podem ser enganados a autorizar apps falsos que imitam a tela de login do provedor.  \n",
    "Mitigação: educar usuários e usar branding oficial com verificação de domínio.\n",
    "\n",
    "7. Reuso de códigos de autorização  \n",
    "Se um código de autorização puder ser reutilizado, um atacante pode trocá-lo por tokens adicionais.  \n",
    "Mitigação: invalidar o código imediatamente após o uso."
   ]
  }
 ],
 "metadata": {
  "kernelspec": {
   "display_name": "Python 3",
   "language": "python",
   "name": "python3"
  },
  "language_info": {
   "codemirror_mode": {
    "name": "ipython",
    "version": 3
   },
   "file_extension": ".py",
   "mimetype": "text/x-python",
   "name": "python",
   "nbconvert_exporter": "python",
   "pygments_lexer": "ipython3",
   "version": "3.11.9"
  }
 },
 "nbformat": 4,
 "nbformat_minor": 5
}
