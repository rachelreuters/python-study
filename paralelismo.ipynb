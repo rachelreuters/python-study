{
 "cells": [
  {
   "cell_type": "markdown",
   "id": "bd5511a2",
   "metadata": {},
   "source": [
    "\n",
    "\n",
    "**asyncio**:\tConcorrente (assíncrona, 1 thread)\tI/O lento e muitas conexões simultâneas\tNão aproveita múltiplos núcleos da CPU  \n",
    "**threading**:\tConcorrente (múltiplas threads)\tI/O rápido, tarefas leves simultâneas\tGIL impede paralelismo real em tarefas de CPU  \n",
    "**multiprocessing**:\tParalelo (múltiplos processos)\tTarefas pesadas de CPU\tMais consumo de memória e overhead de comunicação  "
   ]
  },
  {
   "cell_type": "markdown",
   "id": "95d17f6f",
   "metadata": {},
   "source": [
    "## asyncio  \n",
    "Ideal para servidores web, chamadas de API, scraping de sites com muitas requisições simultâneas.  \n",
    "\n",
    "Exemplo: um servidor que precisa lidar com milhares de conexões sem bloquear."
   ]
  },
  {
   "cell_type": "markdown",
   "id": "23b2190e",
   "metadata": {},
   "source": [
    "## threading  \n",
    "Bom para tarefas que envolvem I/O rápido, como leitura de arquivos, pequenas requisições de rede.  Mas sofre em tarefas de CPU por causa do GIL.\n",
    "\n",
    "Exemplo: baixar várias imagens da internet ao mesmo tempo."
   ]
  },
  {
   "cell_type": "markdown",
   "id": "3b92cd57",
   "metadata": {},
   "source": [
    "## multiprocessing  \n",
    "Perfeito para tarefas que exigem muito processamento, como cálculos matemáticos intensos ou processamento de imagens.  Usa realmente múltiplos núcleos (cada um com seu GIL).\n",
    "\n",
    "Exemplo: aplicar filtros em milhares de fotos simultaneamente.  "
   ]
  },
  {
   "cell_type": "markdown",
   "id": "350b328f",
   "metadata": {},
   "source": [
    "## Global Interpreter Lock (GIL) \n",
    "\n",
    "é um mecanismo interno do interpretador padrão do Python (CPython) que impede que múltiplas threads executem código Python ao mesmo tempo dentro de um único processo2.\n",
    "\n",
    "🔐 Por que o GIL existe?\n",
    "O principal motivo é garantir segurança na manipulação de memória. O Python usa contadores de referência para gerenciar objetos, e esse sistema não é thread-safe por padrão. O GIL funciona como um mutex (bloqueio de exclusão mútua) que protege essas operações internas, evitando que duas threads alterem estruturas de dados ao mesmo tempo e causem corrupção ou bugs difíceis de rastrear.\n",
    "\n",
    "⚠️ Implicações práticas\n",
    "Mesmo que você crie várias threads com threading, apenas uma pode executar código Python por vez.\n",
    "\n",
    "Isso significa que não há paralelismo real para tarefas que exigem muito da CPU.\n",
    "\n",
    "O GIL não afeta operações de I/O (como leitura de arquivos ou chamadas de rede), onde o tempo de espera pode ser aproveitado por outras threads."
   ]
  },
  {
   "cell_type": "code",
   "execution_count": 3,
   "id": "0c01dac2",
   "metadata": {},
   "outputs": [
    {
     "name": "stdout",
     "output_type": "stream",
     "text": [
      "Tarefa 1 começou\n",
      "Tarefa 2 começou\n",
      "Tarefa 3 começou\n",
      "Tarefa 2 terminou após 1s\n",
      "Tarefa 1 terminou após 2s\n",
      "Tarefa 3 terminou após 3s\n"
     ]
    }
   ],
   "source": [
    "import asyncio\n",
    "\n",
    "async def tarefa(nome, tempo):\n",
    "    print(f\"{nome} começou\")\n",
    "    await asyncio.sleep(tempo)\n",
    "    print(f\"{nome} terminou após {tempo}s\")\n",
    "\n",
    "async def main():\n",
    "    await asyncio.gather(\n",
    "        tarefa(\"Tarefa 1\", 2),\n",
    "        tarefa(\"Tarefa 2\", 1),\n",
    "        tarefa(\"Tarefa 3\", 3)\n",
    "    )\n",
    "\n",
    "await main()\n"
   ]
  },
  {
   "cell_type": "code",
   "execution_count": 4,
   "id": "ebaa12b9",
   "metadata": {},
   "outputs": [
    {
     "name": "stdout",
     "output_type": "stream",
     "text": [
      "Tarefa 1 começou\n",
      "Tarefa 2 começou\n",
      "Tarefa 3 começou\n",
      "Tarefa 1 terminou após 1s\n",
      "Tarefa 2 terminou após 2s\n",
      "Tarefa 3 terminou após 3s\n"
     ]
    }
   ],
   "source": [
    "import threading\n",
    "import time\n",
    "\n",
    "def tarefa(nome, tempo):\n",
    "    print(f\"{nome} começou\")\n",
    "    time.sleep(tempo)\n",
    "    print(f\"{nome} terminou após {tempo}s\")\n",
    "\n",
    "threads = []\n",
    "for i in range(3):\n",
    "    t = threading.Thread(target=tarefa, args=(f\"Tarefa {i+1}\", i+1))\n",
    "    threads.append(t)\n",
    "    t.start()\n",
    "\n",
    "for t in threads:\n",
    "    t.join()\n"
   ]
  },
  {
   "cell_type": "code",
   "execution_count": 8,
   "id": "4f35a38b",
   "metadata": {},
   "outputs": [
    {
     "name": "stdout",
     "output_type": "stream",
     "text": [
      "Tarefa 1 terminou após 2s (em 2.00s)\n",
      "Tarefa 2 terminou após 3s (em 3.00s)\n",
      "Tarefa 3 terminou após 1s (em 1.00s)\n"
     ]
    }
   ],
   "source": [
    "from concurrent.futures import ThreadPoolExecutor\n",
    "import time\n",
    "\n",
    "def tarefa(nome, tempo):\n",
    "    inicio = time.time()\n",
    "    time.sleep(tempo)\n",
    "    fim = time.time()\n",
    "    return f\"{nome} terminou após {tempo}s (em {fim - inicio:.2f}s)\"\n",
    "\n",
    "nomes_tempos = [(\"Tarefa 1\", 2), (\"Tarefa 2\", 3), (\"Tarefa 3\", 1)]\n",
    "\n",
    "with ThreadPoolExecutor() as executor:\n",
    "    resultados = executor.map(lambda nt: tarefa(*nt), nomes_tempos)\n",
    "\n",
    "for resultado in resultados:\n",
    "    print(resultado)\n"
   ]
  }
 ],
 "metadata": {
  "kernelspec": {
   "display_name": "Python 3",
   "language": "python",
   "name": "python3"
  },
  "language_info": {
   "codemirror_mode": {
    "name": "ipython",
    "version": 3
   },
   "file_extension": ".py",
   "mimetype": "text/x-python",
   "name": "python",
   "nbconvert_exporter": "python",
   "pygments_lexer": "ipython3",
   "version": "3.11.9"
  }
 },
 "nbformat": 4,
 "nbformat_minor": 5
}
