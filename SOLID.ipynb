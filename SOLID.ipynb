{
 "cells": [
  {
   "cell_type": "markdown",
   "id": "1bc8283d",
   "metadata": {},
   "source": [
    "# SOLID: 5 princípios para um código orientado a objetos robusto\n",
    "\n",
    "- Single Responsibility Principle (SRP): Uma classe deve ter apenas uma razão para mudar.\n",
    "- Open/Closed Principle (OCP): Entidades devem estar abertas para extensão, mas fechadas para modificação.\n",
    "- Liskov Substitution Principle (LSP): Subclasses devem poder substituir suas superclasses sem quebrar o programa.\n",
    "- Interface Segregation Principle (ISP): Não force uma classe a implementar métodos que ela não usa.\n",
    "- Dependency Inversion Principle (DIP): Dependa de abstrações, não de implementações concretas."
   ]
  },
  {
   "cell_type": "markdown",
   "id": "c1276480",
   "metadata": {},
   "source": [
    "DRY — Don’t Repeat Yourself  \n",
    "Evite duplicação de lógica, estrutura e conhecimento."
   ]
  },
  {
   "cell_type": "markdown",
   "id": "e06feda4",
   "metadata": {},
   "source": [
    "KISS — Keep It Simple, Stupid  \n",
    "A solução mais simples que funciona é geralmente a melhor."
   ]
  },
  {
   "cell_type": "code",
   "execution_count": null,
   "id": "a58348cc",
   "metadata": {},
   "outputs": [],
   "source": [
    "# OPEN CLOSED PRINCIPLE\n",
    "class Desconto:\n",
    "    def calcular(self, valor):\n",
    "        return valor\n",
    "\n",
    "class DescontoNatal(Desconto):\n",
    "    def calcular(self, valor):\n",
    "        return valor * 0.9\n"
   ]
  },
  {
   "cell_type": "code",
   "execution_count": null,
   "id": "fa353f3f",
   "metadata": {},
   "outputs": [],
   "source": [
    "# LISKOV\n",
    "class Ave:\n",
    "    def voar(self):\n",
    "        pass\n",
    "\n",
    "class Pato(Ave):\n",
    "    def voar(self):\n",
    "        print(\"Pato voando\")\n"
   ]
  },
  {
   "cell_type": "code",
   "execution_count": null,
   "id": "20758a28",
   "metadata": {},
   "outputs": [],
   "source": [
    "# LISKOV VIOLADO\n",
    "class Entregador:\n",
    "    def entregar(self, destino): print(f\"Entregando em {destino}\")\n",
    "\n",
    "class Drone(Entregador):\n",
    "    def entregar(self, destino):\n",
    "        if destino == \"área fechada\":\n",
    "            raise Exception(\"Drone não entra em área fechada\")  # LSP violado\n"
   ]
  },
  {
   "cell_type": "code",
   "execution_count": 2,
   "id": "8bf5a59b",
   "metadata": {},
   "outputs": [],
   "source": [
    "# INTERFACE SEGREGATION\n",
    "\n",
    "from abc import ABC, abstractmethod\n",
    "\n",
    "class Dirigivel(ABC):\n",
    "    @abstractmethod\n",
    "    def dirigir(self): pass\n",
    "\n",
    "class Voador(ABC):\n",
    "    @abstractmethod\n",
    "    def voar(self): pass\n",
    "\n",
    "\n",
    "\n",
    "class Carro(Dirigivel):\n",
    "    def dirigir(self):\n",
    "        print(\"Dirigindo na estrada\")\n",
    "\n",
    "class Aviao(Dirigivel, Voador):\n",
    "    def dirigir(self):\n",
    "        print(\"Taxiando na pista\")\n",
    "\n",
    "    def voar(self):\n",
    "        print(\"Voando alto\")\n",
    "\n"
   ]
  },
  {
   "cell_type": "code",
   "execution_count": null,
   "id": "1660ab7f",
   "metadata": {},
   "outputs": [],
   "source": [
    "#ISP violado:\n",
    "class Funcionario:\n",
    "    def cozinhar(self): pass\n",
    "    def entregar(self): pass\n",
    "    def voar(self): pass\n",
    "\n",
    "class Motoboy(Funcionario):\n",
    "    def cozinhar(self): raise Exception(\"Não cozinha\")  # ISP violado\n"
   ]
  },
  {
   "cell_type": "code",
   "execution_count": 3,
   "id": "6f6f3f26",
   "metadata": {},
   "outputs": [],
   "source": [
    "# DEPENDENCY INVERSION\n",
    "class Repositorio:\n",
    "    def salvar(self, dados): pass\n",
    "\n",
    "class RepositorioSQL(Repositorio):\n",
    "    def salvar(self, dados): print(\"Salvando no SQL\")\n",
    "\n",
    "class Servico:\n",
    "    def __init__(self, repo: Repositorio):\n",
    "        self.repo = repo\n"
   ]
  }
 ],
 "metadata": {
  "kernelspec": {
   "display_name": "Python 3",
   "language": "python",
   "name": "python3"
  },
  "language_info": {
   "codemirror_mode": {
    "name": "ipython",
    "version": 3
   },
   "file_extension": ".py",
   "mimetype": "text/x-python",
   "name": "python",
   "nbconvert_exporter": "python",
   "pygments_lexer": "ipython3",
   "version": "3.11.9"
  }
 },
 "nbformat": 4,
 "nbformat_minor": 5
}
