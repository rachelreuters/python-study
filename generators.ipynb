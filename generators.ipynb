{
 "cells": [
  {
   "cell_type": "markdown",
   "metadata": {},
   "source": [
    "## Use of Generators to reduce memory consumption"
   ]
  },
  {
   "cell_type": "markdown",
   "metadata": {},
   "source": [
    "### Memory analysis"
   ]
  },
  {
   "cell_type": "code",
   "execution_count": 1,
   "metadata": {},
   "outputs": [
    {
     "name": "stdout",
     "output_type": "stream",
     "text": [
      "4290008\n",
      "112\n"
     ]
    }
   ],
   "source": [
    "import sys\n",
    "import cProfile\n",
    "import warnings\n",
    "\n",
    "warnings.filterwarnings(\"ignore\")\n",
    "\n",
    "#This is a normal function\n",
    "def normal_function(num):\n",
    "    result = []\n",
    "    for i in range(num):\n",
    "        result.append(i**2)\n",
    "    return result\n",
    "\n",
    "#This is the same function using generators\n",
    "def generator_function(num):\n",
    "    for i in range(num):\n",
    "        yield i**2\n",
    "\n",
    "\n",
    "N_PARAMETER = 500000\n",
    "\n",
    "print(sys.getsizeof(normal_function(N_PARAMETER)))\n",
    "\n",
    "print(sys.getsizeof(generator_function(N_PARAMETER)))"
   ]
  },
  {
   "cell_type": "code",
   "execution_count": 2,
   "metadata": {},
   "outputs": [
    {
     "name": "stdout",
     "output_type": "stream",
     "text": [
      "4290008\n",
      "112\n"
     ]
    }
   ],
   "source": [
    "# Now the difference between list compreension and generator\n",
    "\n",
    "list_compreension = [num**2 for num in range(N_PARAMETER)]\n",
    "\n",
    "generator = (num**2 for num in range(N_PARAMETER))\n",
    "\n",
    "print(sys.getsizeof(list_compreension))\n",
    "\n",
    "print(sys.getsizeof(generator))"
   ]
  },
  {
   "cell_type": "markdown",
   "metadata": {},
   "source": [
    "### TIME ANALYSIS"
   ]
  },
  {
   "cell_type": "code",
   "execution_count": null,
   "metadata": {},
   "outputs": [
    {
     "name": "stdout",
     "output_type": "stream",
     "text": [
      "         500004 function calls in 0.126 seconds\n",
      "\n",
      "   Ordered by: standard name\n",
      "\n",
      "   ncalls  tottime  percall  cumtime  percall filename:lineno(function)\n",
      "        1    0.099    0.099    0.123    0.123 1521231337.py:8(normal_function)\n",
      "        1    0.003    0.003    0.126    0.126 <string>:1(<module>)\n",
      "        1    0.000    0.000    0.126    0.126 {built-in method builtins.exec}\n",
      "   500000    0.023    0.000    0.023    0.000 {method 'append' of 'list' objects}\n",
      "        1    0.000    0.000    0.000    0.000 {method 'disable' of '_lsprof.Profiler' objects}\n",
      "\n",
      "\n",
      "None\n",
      "         4 function calls in 0.000 seconds\n",
      "\n",
      "   Ordered by: standard name\n",
      "\n",
      "   ncalls  tottime  percall  cumtime  percall filename:lineno(function)\n",
      "        1    0.000    0.000    0.000    0.000 1521231337.py:15(generator_function)\n",
      "        1    0.000    0.000    0.000    0.000 <string>:1(<module>)\n",
      "        1    0.000    0.000    0.000    0.000 {built-in method builtins.exec}\n",
      "        1    0.000    0.000    0.000    0.000 {method 'disable' of '_lsprof.Profiler' objects}\n",
      "\n",
      "\n",
      "None\n"
     ]
    }
   ],
   "source": [
    "\n",
    "\n",
    "print(cProfile.run('normal_function(N_PARAMETER)'))\n",
    "print(cProfile.run('generator_function(N_PARAMETER)'))\n"
   ]
  },
  {
   "cell_type": "code",
   "execution_count": 4,
   "metadata": {},
   "outputs": [
    {
     "name": "stdout",
     "output_type": "stream",
     "text": [
      "         4 function calls in 0.079 seconds\n",
      "\n",
      "   Ordered by: standard name\n",
      "\n",
      "   ncalls  tottime  percall  cumtime  percall filename:lineno(function)\n",
      "        1    0.076    0.076    0.076    0.076 <string>:1(<listcomp>)\n",
      "        1    0.002    0.002    0.079    0.079 <string>:1(<module>)\n",
      "        1    0.000    0.000    0.079    0.079 {built-in method builtins.exec}\n",
      "        1    0.000    0.000    0.000    0.000 {method 'disable' of '_lsprof.Profiler' objects}\n",
      "\n",
      "\n",
      "None\n",
      "         4 function calls in 0.000 seconds\n",
      "\n",
      "   Ordered by: standard name\n",
      "\n",
      "   ncalls  tottime  percall  cumtime  percall filename:lineno(function)\n",
      "        1    0.000    0.000    0.000    0.000 <string>:1(<genexpr>)\n",
      "        1    0.000    0.000    0.000    0.000 <string>:1(<module>)\n",
      "        1    0.000    0.000    0.000    0.000 {built-in method builtins.exec}\n",
      "        1    0.000    0.000    0.000    0.000 {method 'disable' of '_lsprof.Profiler' objects}\n",
      "\n",
      "\n",
      "None\n"
     ]
    }
   ],
   "source": [
    "print(cProfile.run('[num**2 for num in range(N_PARAMETER)]'))\n",
    "print(cProfile.run('(num**2 for num in range(N_PARAMETER))'))\n"
   ]
  },
  {
   "cell_type": "code",
   "execution_count": 5,
   "metadata": {},
   "outputs": [
    {
     "name": "stdout",
     "output_type": "stream",
     "text": [
      "         5 function calls in 0.086 seconds\n",
      "\n",
      "   Ordered by: standard name\n",
      "\n",
      "   ncalls  tottime  percall  cumtime  percall filename:lineno(function)\n",
      "        1    0.079    0.079    0.079    0.079 <string>:1(<listcomp>)\n",
      "        1    0.003    0.003    0.086    0.086 <string>:1(<module>)\n",
      "        1    0.000    0.000    0.086    0.086 {built-in method builtins.exec}\n",
      "        1    0.004    0.004    0.004    0.004 {built-in method builtins.max}\n",
      "        1    0.000    0.000    0.000    0.000 {method 'disable' of '_lsprof.Profiler' objects}\n",
      "\n",
      "\n",
      "None\n",
      "         500005 function calls in 0.111 seconds\n",
      "\n",
      "   Ordered by: standard name\n",
      "\n",
      "   ncalls  tottime  percall  cumtime  percall filename:lineno(function)\n",
      "   500001    0.084    0.000    0.084    0.000 <string>:1(<genexpr>)\n",
      "        1    0.000    0.000    0.111    0.111 <string>:1(<module>)\n",
      "        1    0.000    0.000    0.111    0.111 {built-in method builtins.exec}\n",
      "        1    0.026    0.026    0.111    0.111 {built-in method builtins.max}\n",
      "        1    0.000    0.000    0.000    0.000 {method 'disable' of '_lsprof.Profiler' objects}\n",
      "\n",
      "\n",
      "None\n",
      "         500005 function calls in 0.128 seconds\n",
      "\n",
      "   Ordered by: standard name\n",
      "\n",
      "   ncalls  tottime  percall  cumtime  percall filename:lineno(function)\n",
      "        1    0.097    0.097    0.120    0.120 1521231337.py:8(normal_function)\n",
      "        1    0.003    0.003    0.128    0.128 <string>:1(<module>)\n",
      "        1    0.000    0.000    0.128    0.128 {built-in method builtins.exec}\n",
      "        1    0.005    0.005    0.005    0.005 {built-in method builtins.max}\n",
      "   500000    0.023    0.000    0.023    0.000 {method 'append' of 'list' objects}\n",
      "        1    0.000    0.000    0.000    0.000 {method 'disable' of '_lsprof.Profiler' objects}\n",
      "\n",
      "\n",
      "None\n"
     ]
    }
   ],
   "source": [
    "\n",
    "print(cProfile.run('max([num**2 for num in range(N_PARAMETER)])'))\n",
    "print(cProfile.run('max((num**2 for num in range(N_PARAMETER)))'))\n",
    "print(cProfile.run('max(normal_function(N_PARAMETER))'))"
   ]
  }
 ],
 "metadata": {
  "kernelspec": {
   "display_name": "Python 3",
   "language": "python",
   "name": "python3"
  },
  "language_info": {
   "codemirror_mode": {
    "name": "ipython",
    "version": 3
   },
   "file_extension": ".py",
   "mimetype": "text/x-python",
   "name": "python",
   "nbconvert_exporter": "python",
   "pygments_lexer": "ipython3",
   "version": "3.8.0"
  }
 },
 "nbformat": 4,
 "nbformat_minor": 2
}
