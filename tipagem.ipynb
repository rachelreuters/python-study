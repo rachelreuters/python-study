{
 "cells": [
  {
   "cell_type": "markdown",
   "id": "01ce7d7a",
   "metadata": {},
   "source": [
    "## Tipagem Dinâmica em Python\n",
    "Python é uma linguagem dinamicamente tipada, o que significa que os tipos são verificados em tempo de execução, não em tempo de compilação.\n",
    "\n",
    "✅ Vantagens:\n",
    "Flexibilidade: você pode mudar o tipo de uma variável a qualquer momento.\n",
    "\n",
    "Produtividade: menos código, mais rápido para prototipar.\n",
    "\n",
    "Facilidade para iniciantes: não exige conhecimento profundo de tipos.\n",
    "\n",
    "❌ Desvantagens:\n",
    "Erros só aparecem em tempo de execução.\n",
    "\n",
    "Menor previsibilidade: difícil saber o tipo esperado sem ler o código inteiro.\n",
    "\n",
    "Refatoração arriscada: mudanças podem quebrar o código silenciosamente.\n",
    "\n",
    "Menor suporte a ferramentas de análise estática (sem type hints)."
   ]
  },
  {
   "cell_type": "markdown",
   "id": "1530607e",
   "metadata": {},
   "source": [
    "## mypy\n",
    "O mypy é uma ferramenta que permite fazer verificação de tipos estática em Python, sem abrir mão da flexibilidade da linguagem.\n",
    "\n",
    "🔧 Como funciona:\n",
    "Você adiciona type hints no seu código.\n",
    "\n",
    "O mypy analisa esses tipos e aponta inconsistências antes da execução.\n",
    "\n",
    "Benefícios do mypy:\n",
    "Detecta erros antes de rodar.\n",
    "\n",
    "Melhora a integração com IDEs (autocompletar, refatoração).\n",
    "\n",
    "Ajuda na manutenção de projetos grandes.\n",
    "\n",
    "Serve como documentação viva.\n",
    "\n",
    "Para fazer analise precisa rodar com o comando:\n",
    "\n",
    "`mypy seu_script.py`"
   ]
  },
  {
   "cell_type": "code",
   "execution_count": 1,
   "id": "7835d1d8",
   "metadata": {},
   "outputs": [
    {
     "ename": "TypeError",
     "evalue": "can only concatenate str (not \"int\") to str",
     "output_type": "error",
     "traceback": [
      "\u001b[1;31m---------------------------------------------------------------------------\u001b[0m",
      "\u001b[1;31mTypeError\u001b[0m                                 Traceback (most recent call last)",
      "Cell \u001b[1;32mIn[1], line 4\u001b[0m\n\u001b[0;32m      1\u001b[0m \u001b[38;5;28;01mdef\u001b[39;00m \u001b[38;5;21msoma\u001b[39m(a: \u001b[38;5;28mint\u001b[39m, b: \u001b[38;5;28mint\u001b[39m) \u001b[38;5;241m-\u001b[39m\u001b[38;5;241m>\u001b[39m \u001b[38;5;28mint\u001b[39m:\n\u001b[0;32m      2\u001b[0m     \u001b[38;5;28;01mreturn\u001b[39;00m a \u001b[38;5;241m+\u001b[39m b\n\u001b[1;32m----> 4\u001b[0m \u001b[43msoma\u001b[49m\u001b[43m(\u001b[49m\u001b[38;5;124;43m\"\u001b[39;49m\u001b[38;5;124;43m1\u001b[39;49m\u001b[38;5;124;43m\"\u001b[39;49m\u001b[43m,\u001b[49m\u001b[43m \u001b[49m\u001b[38;5;241;43m2\u001b[39;49m\u001b[43m)\u001b[49m  \u001b[38;5;66;03m# mypy vai reclamar!\u001b[39;00m\n",
      "Cell \u001b[1;32mIn[1], line 2\u001b[0m, in \u001b[0;36msoma\u001b[1;34m(a, b)\u001b[0m\n\u001b[0;32m      1\u001b[0m \u001b[38;5;28;01mdef\u001b[39;00m \u001b[38;5;21msoma\u001b[39m(a: \u001b[38;5;28mint\u001b[39m, b: \u001b[38;5;28mint\u001b[39m) \u001b[38;5;241m-\u001b[39m\u001b[38;5;241m>\u001b[39m \u001b[38;5;28mint\u001b[39m:\n\u001b[1;32m----> 2\u001b[0m     \u001b[38;5;28;01mreturn\u001b[39;00m \u001b[43ma\u001b[49m\u001b[43m \u001b[49m\u001b[38;5;241;43m+\u001b[39;49m\u001b[43m \u001b[49m\u001b[43mb\u001b[49m\n",
      "\u001b[1;31mTypeError\u001b[0m: can only concatenate str (not \"int\") to str"
     ]
    }
   ],
   "source": [
    "def soma(a: int, b: int) -> int:\n",
    "    return a + b\n",
    "\n",
    "soma(\"1\", 2)  # mypy vai reclamar!\n"
   ]
  },
  {
   "cell_type": "code",
   "execution_count": null,
   "id": "52e486db",
   "metadata": {},
   "outputs": [
    {
     "name": "stdout",
     "output_type": "stream",
     "text": [
      "Tarefa 1 terminou após 2s (em 2.00s)\n",
      "Tarefa 2 terminou após 3s (em 3.00s)\n",
      "Tarefa 3 terminou após 1s (em 1.00s)\n"
     ]
    }
   ],
   "source": [
    "from concurrent.futures import ThreadPoolExecutor\n",
    "import time\n",
    "\n",
    "def tarefa(nome, tempo):\n",
    "    inicio = time.time()\n",
    "    time.sleep(tempo)\n",
    "    fim = time.time()\n",
    "    return f\"{nome} terminou após {tempo}s (em {fim - inicio:.2f}s)\"\n",
    "\n",
    "nomes_tempos = [(\"Tarefa 1\", 2), (\"Tarefa 2\", 3), (\"Tarefa 3\", 1)]\n",
    "\n",
    "with ThreadPoolExecutor() as executor:\n",
    "    resultados = executor.map(lambda nt: tarefa(*nt), nomes_tempos)\n",
    "\n",
    "for resultado in resultados:\n",
    "    print(resultado)\n"
   ]
  }
 ],
 "metadata": {
  "kernelspec": {
   "display_name": "Python 3",
   "language": "python",
   "name": "python3"
  },
  "language_info": {
   "codemirror_mode": {
    "name": "ipython",
    "version": 3
   },
   "file_extension": ".py",
   "mimetype": "text/x-python",
   "name": "python",
   "nbconvert_exporter": "python",
   "pygments_lexer": "ipython3",
   "version": "3.11.9"
  }
 },
 "nbformat": 4,
 "nbformat_minor": 5
}
